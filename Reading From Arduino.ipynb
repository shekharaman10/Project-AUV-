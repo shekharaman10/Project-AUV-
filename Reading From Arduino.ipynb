{
 "cells": [
  {
   "cell_type": "code",
   "execution_count": null,
   "id": "aa12b407",
   "metadata": {},
   "outputs": [],
   "source": [
    "import serial\n",
    "serialInst = serial.Serial()\n",
    "ports='COM4'\n",
    "serialInst.baudrate = 9600\n",
    "serialInst.port = ports\n",
    "serialInst.open()\n",
    "\n",
    "while True:\n",
    "\tif serialInst.in_waiting:\n",
    "\t\tdata = serialInst.readline()\n",
    "\t\tprint(data.decode('utf-8').rstrip('\\r\\n'))"
   ]
  },
  {
   "cell_type": "code",
   "execution_count": null,
   "id": "b2e70a03",
   "metadata": {},
   "outputs": [],
   "source": []
  }
 ],
 "metadata": {
  "kernelspec": {
   "display_name": "Python 3 (ipykernel)",
   "language": "python",
   "name": "python3"
  },
  "language_info": {
   "codemirror_mode": {
    "name": "ipython",
    "version": 3
   },
   "file_extension": ".py",
   "mimetype": "text/x-python",
   "name": "python",
   "nbconvert_exporter": "python",
   "pygments_lexer": "ipython3",
   "version": "3.11.3"
  }
 },
 "nbformat": 4,
 "nbformat_minor": 5
}
