{
 "cells": [
  {
   "cell_type": "code",
   "execution_count": 1,
   "id": "b3094dc4",
   "metadata": {},
   "outputs": [
    {
     "name": "stdout",
     "output_type": "stream",
     "text": [
      "Method from class A\n",
      "Method from class B\n",
      "Method from class C\n",
      "Method from class D\n"
     ]
    }
   ],
   "source": [
    "#Hybrid Inheritance\n",
    "class A:\n",
    "    def method_A(self):\n",
    "        print(\"Method from class A\")\n",
    "\n",
    "class B(A):\n",
    "    def method_B(self):\n",
    "        print(\"Method from class B\")\n",
    "\n",
    "class C(A):\n",
    "    def method_C(self):\n",
    "        print(\"Method from class C\")\n",
    "\n",
    "class D(B, C):\n",
    "    def method_D(self):\n",
    "        print(\"Method from class D\")\n",
    "\n",
    "# Create an object of class D and demonstrate hybrid inheritance\n",
    "obj_D = D()\n",
    "obj_D.method_A()\n",
    "obj_D.method_B()\n",
    "obj_D.method_C()\n",
    "obj_D.method_D()\n"
   ]
  },
  {
   "cell_type": "code",
   "execution_count": 2,
   "id": "9ab0e318",
   "metadata": {},
   "outputs": [
    {
     "name": "stdout",
     "output_type": "stream",
     "text": [
      "Method from class A\n",
      "Method from class B\n",
      "Method from class C\n"
     ]
    }
   ],
   "source": [
    "#Multilevel Inheritance:\n",
    "class A:\n",
    "    def method_A(self):\n",
    "        print(\"Method from class A\")\n",
    "\n",
    "class B(A):\n",
    "    def method_B(self):\n",
    "        print(\"Method from class B\")\n",
    "\n",
    "class C(B):\n",
    "    def method_C(self):\n",
    "        print(\"Method from class C\")\n",
    "\n",
    "# Create an object of class C and demonstrate multilevel inheritance\n",
    "obj_C = C()\n",
    "obj_C.method_A()\n",
    "obj_C.method_B()\n",
    "obj_C.method_C()"
   ]
  },
  {
   "cell_type": "code",
   "execution_count": 3,
   "id": "1222eaa6",
   "metadata": {},
   "outputs": [
    {
     "name": "stdout",
     "output_type": "stream",
     "text": [
      "Method from class A\n",
      "Method from class B\n",
      "Method from class C\n"
     ]
    }
   ],
   "source": [
    "#Multiple Inheritance:\n",
    "class A:\n",
    "    def method_A(self):\n",
    "        print(\"Method from class A\")\n",
    "\n",
    "class B:\n",
    "    def method_B(self):\n",
    "        print(\"Method from class B\")\n",
    "\n",
    "class C(A, B):\n",
    "    def method_C(self):\n",
    "        print(\"Method from class C\")\n",
    "\n",
    "# Create an object of class C and demonstrate multiple inheritance\n",
    "obj_C = C()\n",
    "obj_C.method_A()\n",
    "obj_C.method_B()\n",
    "obj_C.method_C()\n"
   ]
  },
  {
   "cell_type": "code",
   "execution_count": null,
   "id": "aebb385f",
   "metadata": {},
   "outputs": [],
   "source": []
  }
 ],
 "metadata": {
  "kernelspec": {
   "display_name": "Python 3 (ipykernel)",
   "language": "python",
   "name": "python3"
  },
  "language_info": {
   "codemirror_mode": {
    "name": "ipython",
    "version": 3
   },
   "file_extension": ".py",
   "mimetype": "text/x-python",
   "name": "python",
   "nbconvert_exporter": "python",
   "pygments_lexer": "ipython3",
   "version": "3.11.3"
  }
 },
 "nbformat": 4,
 "nbformat_minor": 5
}
