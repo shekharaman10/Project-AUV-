{
 "cells": [
  {
   "cell_type": "code",
   "execution_count": 1,
   "id": "09fc8596",
   "metadata": {},
   "outputs": [
    {
     "name": "stdout",
     "output_type": "stream",
     "text": [
      "Enter something (or type 'exit' to quit): hello world\n",
      "Enter something (or type 'exit' to quit): exit\n"
     ]
    }
   ],
   "source": [
    "import serial\n",
    "import time\n",
    "\n",
    "ser = serial.Serial()\n",
    "port = 'COM4'\n",
    "ser.baudrate = 9600\n",
    "ser.port = port\n",
    "\n",
    "try:\n",
    "    ser.open()\n",
    "    time.sleep(2) \n",
    "\n",
    "    while True:\n",
    "        command = input(\"Enter something (or type 'exit' to quit): \")\n",
    "\n",
    "        if command.lower() == 'exit':\n",
    "            break\n",
    "\n",
    "        ser.write(command.encode('utf-8'))\n",
    "\n",
    "finally:\n",
    "    ser.close()\n"
   ]
  },
  {
   "cell_type": "code",
   "execution_count": null,
   "id": "faae089a",
   "metadata": {},
   "outputs": [],
   "source": []
  }
 ],
 "metadata": {
  "kernelspec": {
   "display_name": "Python 3 (ipykernel)",
   "language": "python",
   "name": "python3"
  },
  "language_info": {
   "codemirror_mode": {
    "name": "ipython",
    "version": 3
   },
   "file_extension": ".py",
   "mimetype": "text/x-python",
   "name": "python",
   "nbconvert_exporter": "python",
   "pygments_lexer": "ipython3",
   "version": "3.11.3"
  }
 },
 "nbformat": 4,
 "nbformat_minor": 5
}
