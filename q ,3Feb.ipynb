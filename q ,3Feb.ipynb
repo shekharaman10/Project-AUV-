{
 "cells": [
  {
   "cell_type": "code",
   "execution_count": 2,
   "id": "a51ce85b",
   "metadata": {},
   "outputs": [
    {
     "name": "stdout",
     "output_type": "stream",
     "text": [
      "Enter name: a\n",
      "Enter age: 1\n",
      "Enter shoe size: 1\n",
      "Enter name: s\n",
      "Enter age: 1\n",
      "Enter shoe size: 2\n",
      "Enter name: d\n",
      "Enter age: 2\n",
      "Enter shoe size: 3\n",
      "Enter name: d\n",
      "Enter age: 1\n",
      "Enter shoe size: 4\n",
      "[['a', 1, 1], ['s', 1, 2], ['d', 2, 3], ['d', 1, 4]]\n",
      "Enter the name of the person to remove: a\n",
      "s 1 2\n",
      "d 2 3\n",
      "d 1 4\n"
     ]
    }
   ],
   "source": [
    "user = []\n",
    "for i in range(4):\n",
    "    name = input(\"Enter name: \")\n",
    "    age = int(input(\"Enter age: \"))\n",
    "    shoe_size = int(input(\"Enter shoe size: \"))\n",
    "    user.append([name, age, shoe_size])\n",
    "print(user)\n",
    "\n",
    "name_to_remove = input(\"Enter the name of the person to remove: \")\n",
    "\n",
    "for i in range(len(user)):\n",
    "    if user[i][0] == name_to_remove:\n",
    "        del user[i]\n",
    "        break\n",
    "\n",
    "for row in user:\n",
    "    print(*row)\n"
   ]
  },
  {
   "cell_type": "code",
   "execution_count": 1,
   "id": "a6b5ec99",
   "metadata": {},
   "outputs": [
    {
     "name": "stdout",
     "output_type": "stream",
     "text": [
      "Enter number: 3\n",
      "Include this number? (yes/no): no\n",
      "Enter number: 3\n",
      "Include this number? (yes/no): yes\n",
      "Enter number: 35\n",
      "Include this number? (yes/no): ys\n",
      "Enter number: 45\n",
      "Include this number? (yes/no): no\n",
      "Enter number: 66\n",
      "Include this number? (yes/no): yes\n",
      "The total is: 69\n"
     ]
    }
   ],
   "source": [
    "total = 0\n",
    "for i in range(5):\n",
    "  num = int(input(\"Enter number: \"))\n",
    "  include = input(\"Include this number? (y/n): \")\n",
    "  if include.lower() == \"y\":\n",
    "    total += num\n",
    "print(\"The total is:\", total)"
   ]
  },
  {
   "cell_type": "code",
   "execution_count": 1,
   "id": "aad03822",
   "metadata": {},
   "outputs": [
    {
     "name": "stdout",
     "output_type": "stream",
     "text": [
      "Available colors: red, green, blue, yellow, purple\n",
      "Pick a color: red\n",
      "Well done!\n"
     ]
    }
   ],
   "source": [
    "import random\n",
    "\n",
    "colors = [\"red\", \"green\", \"blue\", \"yellow\", \"purple\"]\n",
    "chosen_color = random.choice(colors)\n",
    "\n",
    "print(\"Available colors:\", \", \".join(colors))\n",
    "\n",
    "while True:\n",
    "    user_guess = input(\"Pick a color: \").lower()\n",
    "    if user_guess == chosen_color:\n",
    "        print(\"Well done!\")\n",
    "        break\n",
    "    else:\n",
    "        clue = f\"I bet you are {chosen_color.upper()}\"  \n",
    "        print(clue)\n"
   ]
  },
  {
   "cell_type": "code",
   "execution_count": null,
   "id": "29cc6f00",
   "metadata": {},
   "outputs": [],
   "source": []
  }
 ],
 "metadata": {
  "kernelspec": {
   "display_name": "Python 3 (ipykernel)",
   "language": "python",
   "name": "python3"
  },
  "language_info": {
   "codemirror_mode": {
    "name": "ipython",
    "version": 3
   },
   "file_extension": ".py",
   "mimetype": "text/x-python",
   "name": "python",
   "nbconvert_exporter": "python",
   "pygments_lexer": "ipython3",
   "version": "3.11.3"
  }
 },
 "nbformat": 4,
 "nbformat_minor": 5
}
