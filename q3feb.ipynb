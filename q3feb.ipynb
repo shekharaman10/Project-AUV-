{
 "cells": [
  {
   "cell_type": "markdown",
   "id": "48afccdc",
   "metadata": {},
   "source": [
    "Given an array of integers nums and an integer target, return indices of the two numbers such that they add up to target.\n",
    "\n",
    "You may assume that each input would have exactly one solution, and you may not use the same element twice.\n"
   ]
  },
  {
   "cell_type": "code",
   "execution_count": 1,
   "id": "209179a6",
   "metadata": {},
   "outputs": [
    {
     "name": "stdout",
     "output_type": "stream",
     "text": [
      "Enter a number:9\n"
     ]
    },
    {
     "data": {
      "text/plain": [
       "[3, 4]"
      ]
     },
     "execution_count": 1,
     "metadata": {},
     "output_type": "execute_result"
    }
   ],
   "source": [
    "nums=[1,2,3,4,5,]\n",
    "target = int(input(\"Enter a number:\"))\n",
    "\n",
    "\n",
    "def twoSum(nums, target):\n",
    "    n = 0\n",
    "    i = 0\n",
    "    while n < len(nums):\n",
    "        temp = 0\n",
    "        if i == n:\n",
    "            i += 1\n",
    "        else:\n",
    "            temp = nums[n] + nums[i]\n",
    "            if temp == target and i < n:\n",
    "                return [i,n]\n",
    "            i += 1\n",
    "        if i == len(nums)-1:\n",
    "            i = 0\n",
    "            n += 1\n",
    "twoSum(nums,target)"
   ]
  },
  {
   "cell_type": "code",
   "execution_count": 2,
   "id": "5c6e925a",
   "metadata": {},
   "outputs": [
    {
     "name": "stdout",
     "output_type": "stream",
     "text": [
      "Second highest number is :  34\n"
     ]
    }
   ],
   "source": [
    "#Write a program to find the second maximum in a list.\n",
    "nums=[1,2,3,4,5,8,92,34,5,5,5,5,6,7,8,8,9,9,9]\n",
    "\n",
    " \n",
    "mx = max(nums[0], nums[1]) \n",
    "secmax = min(nums[0], nums[1]) \n",
    "n = len(nums)\n",
    "for i in range(2,n): \n",
    "    if nums[i] > mx: \n",
    "        secmax = mx\n",
    "        mx = nums[i] \n",
    "    elif nums[i] > secmax and \\\n",
    "        mx != nums[i]: \n",
    "        secmax = nums[i]\n",
    "    elif mx == secmax and \\\n",
    "        secmax != nums[i]:\n",
    "          secmax = nums[i]\n",
    " \n",
    "print(\"Second highest number is : \",\\\n",
    "      str(secmax))"
   ]
  },
  {
   "cell_type": "code",
   "execution_count": null,
   "id": "c5ae551a",
   "metadata": {},
   "outputs": [],
   "source": []
  }
 ],
 "metadata": {
  "kernelspec": {
   "display_name": "Python 3 (ipykernel)",
   "language": "python",
   "name": "python3"
  },
  "language_info": {
   "codemirror_mode": {
    "name": "ipython",
    "version": 3
   },
   "file_extension": ".py",
   "mimetype": "text/x-python",
   "name": "python",
   "nbconvert_exporter": "python",
   "pygments_lexer": "ipython3",
   "version": "3.11.3"
  }
 },
 "nbformat": 4,
 "nbformat_minor": 5
}
