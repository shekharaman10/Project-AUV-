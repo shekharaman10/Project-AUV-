{
 "cells": [
  {
   "cell_type": "code",
   "execution_count": 3,
   "id": "f56a2aa3",
   "metadata": {},
   "outputs": [
    {
     "name": "stdout",
     "output_type": "stream",
     "text": [
      "enter a number:2\n",
      "Triangle\n",
      "Enter base:5\n",
      "Enter height:2\n",
      "AREA: 5.0\n"
     ]
    }
   ],
   "source": [
    "num= int(input(\"enter a number:\"))\n",
    "if num==1:\n",
    "    print(\"square\")\n",
    "    side=float(input(\"Enter length:\"))\n",
    "    area=side*side\n",
    "elif num == 2:\n",
    "    print(\"Triangle\")\n",
    "    base=float(input(\"Enter base:\"))\n",
    "    height=float(input(\"Enter height:\"))\n",
    "    area = 0.5*base*height\n",
    "else:\n",
    "    print(\"Error\")\n",
    "print(\"AREA:\",area)"
   ]
  },
  {
   "cell_type": "code",
   "execution_count": 4,
   "id": "24b77ebb",
   "metadata": {},
   "outputs": [
    {
     "name": "stdout",
     "output_type": "stream",
     "text": [
      "Enter:8\n"
     ]
    },
    {
     "data": {
      "text/plain": [
       "7"
      ]
     },
     "execution_count": 4,
     "metadata": {},
     "output_type": "execute_result"
    }
   ],
   "source": [
    "my_list = [1,2,3,4,5,6,7,8,9,0]\n",
    "num = int(input(\"Enter:\"))\n",
    "def search(my_list, num):\n",
    "\n",
    "\tfor i in range(len(my_list)):\n",
    "\n",
    "\t\tif my_list[i] == num:\n",
    "\t\t\treturn i\n",
    "\n",
    "\treturn -1\n",
    "search(my_list,num)"
   ]
  },
  {
   "cell_type": "code",
   "execution_count": 2,
   "id": "b3529365",
   "metadata": {},
   "outputs": [
    {
     "name": "stdout",
     "output_type": "stream",
     "text": [
      "Enter your #1 favorite food: d\n",
      "Enter your #2 favorite food: d\n",
      "Enter your #3 favorite food: e\n",
      "Enter your #4 favorite food: s\n",
      "Original Dictionary:\n",
      "1: d\n",
      "2: d\n",
      "3: e\n",
      "4: s\n",
      "Enter the index of the food you want to get rid of: 2\n",
      "Removed 'd' from the list.\n",
      "Updated Dictionary:\n",
      "1: d\n",
      "3: e\n",
      "4: s\n"
     ]
    }
   ],
   "source": [
    "\n",
    "fav_foods = {}\n",
    "for i in range(1, 5):\n",
    "    food = input(f\"Enter your #{i} favorite food: \")\n",
    "    fav_foods[i] = food\n",
    "\n",
    "\n",
    "print(\"Original Dictionary:\")\n",
    "for index, food in fav_foods.items():\n",
    "    print(f\"{index}: {food}\")\n",
    "\n",
    "\n",
    "try:\n",
    "    remove_index = int(input(\"Enter the index of the food you want to get rid of: \"))\n",
    "    if remove_index in fav_foods:\n",
    "        removed_food = fav_foods.pop(remove_index)\n",
    "        print(f\"Removed '{removed_food}' from the list.\")\n",
    "    else:\n",
    "        print(\"Invalid index. No changes made.\")\n",
    "except ValueError:\n",
    "    print(\"Invalid input. Please enter a valid index.\")\n",
    "\n",
    "\n",
    "sorted_fav_foods = dict(sorted(fav_foods.items()))\n",
    "\n",
    "print(\"Updated Dictionary:\")\n",
    "for index, food in sorted_fav_foods.items():\n",
    "    print(f\"{index}: {food}\")"
   ]
  },
  {
   "cell_type": "code",
   "execution_count": 1,
   "id": "97bd3c05",
   "metadata": {},
   "outputs": [
    {
     "name": "stdout",
     "output_type": "stream",
     "text": [
      "There are 10 green bottles hanging on the wall, 10 green bottles hanging on the wall, and if 1 green bottle should accidentally fall.\n",
      "How many green bottles will be hanging on the wall? 9\n",
      "There will be 9 green bottles hanging on the wall.\n",
      "There are 9 green bottles hanging on the wall, 9 green bottles hanging on the wall, and if 1 green bottle should accidentally fall.\n",
      "How many green bottles will be hanging on the wall? 8\n",
      "There will be 8 green bottles hanging on the wall.\n",
      "There are 8 green bottles hanging on the wall, 8 green bottles hanging on the wall, and if 1 green bottle should accidentally fall.\n",
      "How many green bottles will be hanging on the wall? 7\n",
      "There will be 7 green bottles hanging on the wall.\n",
      "There are 7 green bottles hanging on the wall, 7 green bottles hanging on the wall, and if 1 green bottle should accidentally fall.\n",
      "How many green bottles will be hanging on the wall? 6\n",
      "There will be 6 green bottles hanging on the wall.\n",
      "There are 6 green bottles hanging on the wall, 6 green bottles hanging on the wall, and if 1 green bottle should accidentally fall.\n",
      "How many green bottles will be hanging on the wall? 5\n",
      "There will be 5 green bottles hanging on the wall.\n",
      "There are 5 green bottles hanging on the wall, 5 green bottles hanging on the wall, and if 1 green bottle should accidentally fall.\n",
      "How many green bottles will be hanging on the wall? 4\n",
      "There will be 4 green bottles hanging on the wall.\n",
      "There are 4 green bottles hanging on the wall, 4 green bottles hanging on the wall, and if 1 green bottle should accidentally fall.\n",
      "How many green bottles will be hanging on the wall? 3\n",
      "There will be 3 green bottles hanging on the wall.\n",
      "There are 3 green bottles hanging on the wall, 3 green bottles hanging on the wall, and if 1 green bottle should accidentally fall.\n",
      "How many green bottles will be hanging on the wall? 2\n",
      "There will be 2 green bottles hanging on the wall.\n",
      "There are 2 green bottles hanging on the wall, 2 green bottles hanging on the wall, and if 1 green bottle should accidentally fall.\n",
      "How many green bottles will be hanging on the wall? 1\n",
      "There will be 1 green bottles hanging on the wall.\n",
      "There are 1 green bottles hanging on the wall, 1 green bottles hanging on the wall, and if 1 green bottle should accidentally fall.\n",
      "How many green bottles will be hanging on the wall? 0\n",
      "There will be 0 green bottles hanging on the wall.\n",
      "There are no more green bottles hanging on the wall.\n"
     ]
    }
   ],
   "source": [
    "num_green_bottles = 10\n",
    "\n",
    "while num_green_bottles > 0:\n",
    "    print(f\"There are {num_green_bottles} green bottles hanging on the wall, {num_green_bottles} green bottles hanging on the wall, and if 1 green bottle should accidentally fall.\")\n",
    "    \n",
    "    \n",
    "    user_guess = int(input(\"How many green bottles will be hanging on the wall? \"))\n",
    "    \n",
    "    if user_guess == num_green_bottles - 1:\n",
    "        print(f\"There will be {num_green_bottles - 1} green bottles hanging on the wall.\")\n",
    "        num_green_bottles -= 1\n",
    "    else:\n",
    "        print(\"No, try again.\")\n",
    "\n",
    "print(\"There are no more green bottles hanging on the wall.\")\n"
   ]
  },
  {
   "cell_type": "code",
   "execution_count": null,
   "id": "115c572e",
   "metadata": {},
   "outputs": [],
   "source": []
  }
 ],
 "metadata": {
  "kernelspec": {
   "display_name": "Python 3 (ipykernel)",
   "language": "python",
   "name": "python3"
  },
  "language_info": {
   "codemirror_mode": {
    "name": "ipython",
    "version": 3
   },
   "file_extension": ".py",
   "mimetype": "text/x-python",
   "name": "python",
   "nbconvert_exporter": "python",
   "pygments_lexer": "ipython3",
   "version": "3.11.3"
  }
 },
 "nbformat": 4,
 "nbformat_minor": 5
}
