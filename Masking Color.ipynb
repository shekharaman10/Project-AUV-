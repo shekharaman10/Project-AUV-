{
 "cells": [
  {
   "cell_type": "code",
   "execution_count": null,
   "id": "348311b6",
   "metadata": {},
   "outputs": [],
   "source": [
    "import cv2\n",
    "import numpy as np\n",
    "\n",
    "# Load the image\n",
    "img = cv2.imread('c1.jpg')\n",
    "\n",
    "# Convert the image to the HSV color space\n",
    "hsv = cv2.cvtColor(img, cv2.COLOR_BGR2HSV)\n",
    "\n",
    "# Define the range of red color in HSV\n",
    "lower_red = np.array([0, 100, 100])\n",
    "upper_red = np.array([160, 255, 255])\n",
    "\n",
    "# Define the range of blue color in HSV\n",
    "lower_blue = np.array([110, 50, 20])\n",
    "upper_blue = np.array([130, 255, 255])\n",
    "\n",
    "# Threshold the image to get only red pixels\n",
    "mask_red = cv2.inRange(hsv, lower_red, upper_red)\n",
    "\n",
    "# Threshold the image to get only blue pixels\n",
    "mask_blue = cv2.inRange(hsv, lower_blue, upper_blue)\n",
    "\n",
    "# Combine the masks to get a mask for both red and blue\n",
    "mask_combined = cv2.bitwise_or(mask_red, mask_blue)\n",
    "\n",
    "# Apply the combined mask to the original image\n",
    "result = cv2.bitwise_and(img, img, mask=mask_combined)\n",
    "\n",
    "# Display the original image, masks, and the result\n",
    "cv2.imshow('Original Image', img)\n",
    "cv2.imshow('Red Mask', mask_red)\n",
    "cv2.imshow('Blue Mask', mask_blue)\n",
    "cv2.imshow('Combined Mask', mask_combined)\n",
    "cv2.imshow('Result', result)\n",
    "\n",
    "# Wait for a key press and close the windows\n",
    "cv2.waitKey(0)\n",
    "cv2.destroyAllWindows()\n"
   ]
  },
  {
   "cell_type": "code",
   "execution_count": null,
   "id": "46751300",
   "metadata": {},
   "outputs": [],
   "source": []
  }
 ],
 "metadata": {
  "kernelspec": {
   "display_name": "Python 3 (ipykernel)",
   "language": "python",
   "name": "python3"
  },
  "language_info": {
   "codemirror_mode": {
    "name": "ipython",
    "version": 3
   },
   "file_extension": ".py",
   "mimetype": "text/x-python",
   "name": "python",
   "nbconvert_exporter": "python",
   "pygments_lexer": "ipython3",
   "version": "3.11.3"
  }
 },
 "nbformat": 4,
 "nbformat_minor": 5
}
