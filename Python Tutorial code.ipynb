{
 "cells": [
  {
   "cell_type": "code",
   "execution_count": 1,
   "id": "5499aa9f",
   "metadata": {},
   "outputs": [
    {
     "name": "stdout",
     "output_type": "stream",
     "text": [
      "Enter a number to divide:5\n",
      "Enter a number to divide by:3\n",
      "1.6666666666666667\n",
      "1.6666666666666667\n"
     ]
    }
   ],
   "source": [
    "#exception handling\n",
    "try:\n",
    "    numerator = int(input(\"Enter a number to divide:\"))\n",
    "    denominator= int(input(\"Enter a number to divide by:\"))\n",
    "    result= numerator/denominator\n",
    "    print(result)\n",
    "except ZeroDivisionError as e:\n",
    "    print(e)\n",
    "except ValueError as e:\n",
    "    print(e)\n",
    "    print(\"Enter only numbers plz\")\n",
    "except Exception as e:\n",
    "    print(e)\n",
    "    print(\"something went wrong\")\n",
    "else:\n",
    "    print(result)\n"
   ]
  },
  {
   "cell_type": "code",
   "execution_count": 2,
   "id": "cba9d4cf",
   "metadata": {},
   "outputs": [
    {
     "name": "stdout",
     "output_type": "stream",
     "text": [
      "Hello World!\n",
      "How is Life?\n",
      "True\n"
     ]
    }
   ],
   "source": [
    "with open('text.txt') as file:\n",
    "    print(file.read())\n",
    "    \n",
    "print(file.closed)"
   ]
  },
  {
   "cell_type": "code",
   "execution_count": 3,
   "id": "8b7c3a36",
   "metadata": {},
   "outputs": [
    {
     "name": "stdout",
     "output_type": "stream",
     "text": [
      "That file was not found: (\n"
     ]
    }
   ],
   "source": [
    "try:\n",
    "    with open('text.tx') as file:\n",
    "        print(file.read())\n",
    "except FileNotFoundError:\n",
    "    print(\"That file was not found: (\")"
   ]
  },
  {
   "cell_type": "code",
   "execution_count": 4,
   "id": "86d7bde5",
   "metadata": {},
   "outputs": [],
   "source": [
    "text= \"Have a nice day!\"\n",
    "with open('test.txt','a') as file:\n",
    "        file.write(text)"
   ]
  },
  {
   "cell_type": "code",
   "execution_count": 11,
   "id": "3b38d3e9",
   "metadata": {},
   "outputs": [
    {
     "name": "stdout",
     "output_type": "stream",
     "text": [
      "True\n",
      "This animal is eating\n",
      "This animal is sleeping\n",
      "This animal is running\n",
      "This animal is swimming\n",
      "This animal is flying\n"
     ]
    }
   ],
   "source": [
    "#Inheritance \n",
    "class Animal:\n",
    "    alive = True\n",
    "    \n",
    "    def eat(self):\n",
    "        print(\"This animal is eating\")\n",
    "    def sleep(self):\n",
    "        print(\"This animal is sleeping\")\n",
    "class Rabbit(Animal):\n",
    "    def run(self):\n",
    "        print(\"This animal is running\")\n",
    "    \n",
    "class Fish(Animal):\n",
    "    def swim(self):\n",
    "        print(\"This animal is swimming\")\n",
    "    \n",
    "class Hawk(Animal):\n",
    "    def fly(self):\n",
    "        print(\"This animal is flying\")\n",
    "    \n",
    "\n",
    "rabbit= Rabbit()\n",
    "fish = Fish()\n",
    "hawk = Hawk()\n",
    "\n",
    "print(rabbit.alive)\n",
    "fish.eat()\n",
    "hawk.sleep()\n",
    "\n",
    "rabbit.run()\n",
    "fish.swim()\n",
    "hawk.fly()"
   ]
  },
  {
   "cell_type": "code",
   "execution_count": 12,
   "id": "be7c207c",
   "metadata": {},
   "outputs": [
    {
     "name": "stdout",
     "output_type": "stream",
     "text": [
      "True\n",
      "This animal is eating\n",
      "This dog is barking\n"
     ]
    }
   ],
   "source": [
    "#Multi-level Inheritance\n",
    "class Organism:\n",
    "     alive = True\n",
    "class Animal(Organism):\n",
    "    def eat(self):\n",
    "        print(\"This animal is eating\")\n",
    "class Dog(Animal):            #multi-level inheritance\n",
    "    def bark(self):\n",
    "        print(\"This dog is barking\")\n",
    "        \n",
    "dog=Dog()\n",
    "print(dog.alive)\n",
    "dog.eat()\n",
    "dog.bark()"
   ]
  },
  {
   "cell_type": "code",
   "execution_count": 13,
   "id": "c8b4df20",
   "metadata": {},
   "outputs": [
    {
     "name": "stdout",
     "output_type": "stream",
     "text": [
      "This animal flees\n",
      "This animal is hunting\n",
      "This animal is hunting\n"
     ]
    }
   ],
   "source": [
    "#Multiple Inheritance\n",
    "class Prey:\n",
    "    def flee(self):\n",
    "        print(\"This animal flees\")\n",
    "class Predator:\n",
    "    def hunt(self):\n",
    "        print(\"This animal is hunting\")\n",
    "        \n",
    "class Rabbit(Prey):\n",
    "    pass\n",
    "class Hawk(Predator):\n",
    "    pass\n",
    "class Fish(Prey,Predator):  #multiple inheritance\n",
    "    pass\n",
    "rabbit= Rabbit()\n",
    "hawk= Hawk()\n",
    "fish=Fish()\n",
    "\n",
    "rabbit.flee()\n",
    "hawk.hunt()\n",
    "fish.hunt()"
   ]
  },
  {
   "cell_type": "code",
   "execution_count": 6,
   "id": "ed07de28",
   "metadata": {},
   "outputs": [
    {
     "name": "stdout",
     "output_type": "stream",
     "text": [
      "you start the engine\n",
      "you drive the car\n"
     ]
    },
    {
     "data": {
      "text/plain": [
       "<__main__.car at 0x1c2c6c25790>"
      ]
     },
     "execution_count": 6,
     "metadata": {},
     "output_type": "execute_result"
    }
   ],
   "source": [
    "#Method Chaining\n",
    "class car:\n",
    "    def turn_on(self):\n",
    "        print(\"you start the engine\")\n",
    "        return self\n",
    "    def drive(self):\n",
    "        print(\"you drive the car\")\n",
    "        return self\n",
    "    def brake(self):\n",
    "        print(\"you apply brake\")\n",
    "        return self\n",
    "    def turn_off(self):\n",
    "        print(\"you turn off the engine\")\n",
    "        return self\n",
    "car = car()\n",
    "car.turn_on().drive()"
   ]
  },
  {
   "cell_type": "code",
   "execution_count": null,
   "id": "bc638cbd",
   "metadata": {},
   "outputs": [],
   "source": []
  }
 ],
 "metadata": {
  "kernelspec": {
   "display_name": "Python 3 (ipykernel)",
   "language": "python",
   "name": "python3"
  },
  "language_info": {
   "codemirror_mode": {
    "name": "ipython",
    "version": 3
   },
   "file_extension": ".py",
   "mimetype": "text/x-python",
   "name": "python",
   "nbconvert_exporter": "python",
   "pygments_lexer": "ipython3",
   "version": "3.11.3"
  }
 },
 "nbformat": 4,
 "nbformat_minor": 5
}
